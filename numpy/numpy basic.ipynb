{
 "cells": [
  {
   "cell_type": "markdown",
   "metadata": {},
   "source": [
    "# Numpy 알아보기 \n",
    "#### (basic level, numpy.__version__=1.17)"
   ]
  },
  {
   "cell_type": "markdown",
   "metadata": {},
   "source": [
    "-  Ref\n",
    "    - 머신러닝 부트캠프 with 파이썬\n",
    "    - [Numpy v1.17 manual](https://docs.scipy.org/doc/numpy/index.html)"
   ]
  },
  {
   "cell_type": "code",
   "execution_count": 1,
   "metadata": {},
   "outputs": [],
   "source": [
    "import numpy as np"
   ]
  },
  {
   "cell_type": "markdown",
   "metadata": {},
   "source": [
    "- ### numpy에서는 numpy.ndarray 객체를 기본 데이터 구조로 사용"
   ]
  },
  {
   "cell_type": "markdown",
   "metadata": {},
   "source": [
    "### 1. ndarray 객체 초기화 방법"
   ]
  },
  {
   "cell_type": "code",
   "execution_count": 2,
   "metadata": {},
   "outputs": [
    {
     "data": {
      "text/plain": [
       "array([[0.]])"
      ]
     },
     "execution_count": 2,
     "metadata": {},
     "output_type": "execute_result"
    }
   ],
   "source": [
    "# 0으로 초기화\n",
    "# dtype=None이면 numpy.float64 or numpy.int32가 기본값\n",
    "\n",
    "np.zeros(shape=(1,1), dtype=None)"
   ]
  },
  {
   "cell_type": "code",
   "execution_count": 3,
   "metadata": {},
   "outputs": [
    {
     "data": {
      "text/plain": [
       "array([[1.]])"
      ]
     },
     "execution_count": 3,
     "metadata": {},
     "output_type": "execute_result"
    }
   ],
   "source": [
    "# 1으로 초기화\n",
    "\n",
    "np.ones(shape=(1,1), dtype=None)"
   ]
  },
  {
   "cell_type": "markdown",
   "metadata": {},
   "source": [
    "### 2. 배열 요소를 지정해 생성"
   ]
  },
  {
   "cell_type": "code",
   "execution_count": 4,
   "metadata": {},
   "outputs": [
    {
     "name": "stdout",
     "output_type": "stream",
     "text": [
      "[1 2 3] (3,)\n",
      "[[1 2 3]\n",
      " [4 5 6]] (2, 3)\n"
     ]
    }
   ],
   "source": [
    "# 보통 object만 사용\n",
    "\n",
    "# np.array(object, dtype=None, copy=True, order=None, subot=False, ndim=0)\n",
    "\n",
    "# Example\n",
    "A = np.array([1, 2, 3]) # (3,) 배열\n",
    "B = np.array([[1, 2, 3], [4, 5, 6]]) # (2, 3) 배열\n",
    "print(A, A.shape)\n",
    "print(B, B.shape)"
   ]
  },
  {
   "cell_type": "markdown",
   "metadata": {},
   "source": [
    "### 3. range 배열 생성"
   ]
  },
  {
   "cell_type": "code",
   "execution_count": 5,
   "metadata": {},
   "outputs": [
    {
     "data": {
      "text/plain": [
       "array([0, 3, 6])"
      ]
     },
     "execution_count": 5,
     "metadata": {},
     "output_type": "execute_result"
    }
   ],
   "source": [
    "# np.arange([start], stop, [step], dtype=None)\n",
    "\n",
    "np.arange(0, 9, 3, dtype=numpy.int32)"
   ]
  },
  {
   "cell_type": "markdown",
   "metadata": {},
   "source": [
    "### 4. 전치 행렬 구하기"
   ]
  },
  {
   "cell_type": "code",
   "execution_count": 6,
   "metadata": {},
   "outputs": [
    {
     "name": "stdout",
     "output_type": "stream",
     "text": [
      "original B : \n",
      "[[1 2 3]\n",
      " [4 5 6]]\n",
      "shape of B :  (2, 3)\n",
      "\n",
      "transpose B : \n",
      "[[1 4]\n",
      " [2 5]\n",
      " [3 6]]\n",
      "shape of transpose B :  (3, 2)\n"
     ]
    }
   ],
   "source": [
    "# 2차원 Transpose matirx 구하기\n",
    "\n",
    "# B.T\n",
    "\n",
    "print(\"original B : \")\n",
    "print(B)\n",
    "print(\"shape of B : \", B.shape)\n",
    "print()\n",
    "print(\"transpose B : \")\n",
    "print(B.T)\n",
    "print(\"shape of transpose B : \", B.T.shape)"
   ]
  },
  {
   "cell_type": "code",
   "execution_count": 7,
   "metadata": {},
   "outputs": [
    {
     "name": "stdout",
     "output_type": "stream",
     "text": [
      "original C : \n",
      "[[[1 2]\n",
      "  [3 4]\n",
      "  [5 6]]]\n",
      "shape of C :  (1, 3, 2)\n",
      "\n",
      "transpose C : \n",
      "[[[1]\n",
      "  [3]\n",
      "  [5]]\n",
      "\n",
      " [[2]\n",
      "  [4]\n",
      "  [6]]]\n",
      "shape of transpose C :  (2, 3, 1)\n"
     ]
    }
   ],
   "source": [
    "# 3차원 Transpose mastrix 구하기\n",
    "# transpose시 shape는 원래의 역순이 된다.\n",
    "\n",
    "C = np.array([[[1, 2], [3, 4], [5, 6]]])\n",
    "\n",
    "print(\"original C : \")\n",
    "print(C)\n",
    "print(\"shape of C : \", C.shape)\n",
    "print()\n",
    "print(\"transpose C : \")\n",
    "print(C.T)\n",
    "print(\"shape of transpose C : \", C.T.shape)"
   ]
  },
  {
   "cell_type": "markdown",
   "metadata": {},
   "source": [
    "### 5. 형태 변경"
   ]
  },
  {
   "cell_type": "code",
   "execution_count": 8,
   "metadata": {},
   "outputs": [
    {
     "name": "stdout",
     "output_type": "stream",
     "text": [
      "B : \n",
      " [[1 2 3]\n",
      " [4 5 6]] \n",
      "\n",
      "(1, 6)으로 reshape : \n",
      "[[1 2 3 4 5 6]]\n",
      "오리지널 B의 shape :  (2, 3)\n",
      "reshape 후 B의 shape :  (1, 6)\n",
      "\n",
      "(1, 7)로 변환, 갯수가 안맞으면 에러가 난다\n"
     ]
    },
    {
     "ename": "ValueError",
     "evalue": "cannot reshape array of size 6 into shape (1,7)",
     "output_type": "error",
     "traceback": [
      "\u001b[1;31m---------------------------------------------------------------------------\u001b[0m",
      "\u001b[1;31mValueError\u001b[0m                                Traceback (most recent call last)",
      "\u001b[1;32m<ipython-input-8-769e01cb2e97>\u001b[0m in \u001b[0;36m<module>\u001b[1;34m\u001b[0m\n\u001b[0;32m     10\u001b[0m \u001b[0mprint\u001b[0m\u001b[1;33m(\u001b[0m\u001b[1;33m)\u001b[0m\u001b[1;33m\u001b[0m\u001b[1;33m\u001b[0m\u001b[0m\n\u001b[0;32m     11\u001b[0m \u001b[0mprint\u001b[0m\u001b[1;33m(\u001b[0m\u001b[1;34m\"(1, 7)로 변환, 갯수가 안맞으면 에러가 난다\"\u001b[0m\u001b[1;33m)\u001b[0m\u001b[1;33m\u001b[0m\u001b[1;33m\u001b[0m\u001b[0m\n\u001b[1;32m---> 12\u001b[1;33m \u001b[0mprint\u001b[0m\u001b[1;33m(\u001b[0m\u001b[0mB\u001b[0m\u001b[1;33m.\u001b[0m\u001b[0mreshape\u001b[0m\u001b[1;33m(\u001b[0m\u001b[1;36m1\u001b[0m\u001b[1;33m,\u001b[0m \u001b[1;36m7\u001b[0m\u001b[1;33m)\u001b[0m\u001b[1;33m)\u001b[0m\u001b[1;33m\u001b[0m\u001b[1;33m\u001b[0m\u001b[0m\n\u001b[0m",
      "\u001b[1;31mValueError\u001b[0m: cannot reshape array of size 6 into shape (1,7)"
     ]
    }
   ],
   "source": [
    "# np.ndarray.reshape()\n",
    "# 바꿀 배열 요소의 갯수가 일치해야한다.\n",
    "\n",
    "print(\"B : \\n\", B, \"\\n\")\n",
    "print(\"(1, 6)으로 reshape : \")\n",
    "print(B.reshape(1, 6))\n",
    "print(\"오리지널 B의 shape : \", B.shape)\n",
    "print(\"reshape 후 B의 shape : \", B.reshape(1,6).shape)\n",
    "\n",
    "print()\n",
    "print(\"(1, 7)로 변환, 갯수가 안맞으면 에러가 난다\")\n",
    "print(B.reshape(1, 7))"
   ]
  },
  {
   "cell_type": "markdown",
   "metadata": {},
   "source": [
    "### 6. 배열 연결"
   ]
  },
  {
   "cell_type": "code",
   "execution_count": 9,
   "metadata": {},
   "outputs": [
    {
     "name": "stdout",
     "output_type": "stream",
     "text": [
      "[[1. 1. 1.]\n",
      " [1. 1. 1.]]\n",
      "[[1 2 3]\n",
      " [4 5 6]]\n",
      "\n",
      "[[1. 1. 1.]\n",
      " [1. 1. 1.]\n",
      " [1. 2. 3.]\n",
      " [4. 5. 6.]]\n",
      "\n",
      "[[1. 1. 1. 1. 2. 3.]\n",
      " [1. 1. 1. 4. 5. 6.]]\n"
     ]
    }
   ],
   "source": [
    "# 연결할 차원의 length가 일치하면 연결이 가능함\n",
    "\n",
    "# numpy.r_[A, B] : 행에 연결\n",
    "# numpy.c_[A, B] : 열에 연결\n",
    "# numpy.concatenate( (A, B), axis=0(기본값 0))\n",
    "\n",
    "E = np.ones((2, 3))\n",
    "F = B\n",
    "print(E)\n",
    "print(F)\n",
    "print()\n",
    "print(np.r_[E, F]) # np.concatenate((E, F))\n",
    "print()\n",
    "print(np.c_[E, F]) # np.concatenate((E, F), axis=1)"
   ]
  },
  {
   "cell_type": "markdown",
   "metadata": {},
   "source": [
    "### 7. 사칙 연산"
   ]
  },
  {
   "cell_type": "code",
   "execution_count": 10,
   "metadata": {},
   "outputs": [
    {
     "name": "stdout",
     "output_type": "stream",
     "text": [
      "[[2. 3. 4.]\n",
      " [5. 6. 7.]]\n",
      "[[ 0. -1. -2.]\n",
      " [-3. -4. -5.]]\n",
      "[[1. 2. 3.]\n",
      " [4. 5. 6.]]\n",
      "[[1. 2. 3.]\n",
      " [4. 5. 6.]]\n"
     ]
    }
   ],
   "source": [
    "# ndarray끼리 사칙 연산 적용\n",
    "\n",
    "print(E+F)\n",
    "print(E-F)\n",
    "print(E*F)\n",
    "print(F/E)"
   ]
  },
  {
   "cell_type": "markdown",
   "metadata": {},
   "source": [
    "### 8. 벡터 행렬 곱 연산"
   ]
  },
  {
   "cell_type": "markdown",
   "metadata": {},
   "source": [
    "- #### 세가지의 행렬 곱\n",
    "    - ```A * B``` : 행렬 element-wise 곱\n",
    "    - ```numpy.dot(A, B)``` : dot 연산\n",
    "    - ```numpy.matmul(A, B)``` : matmul 연산 (=A@B)\n",
    "\n",
    "\n",
    "- 세 연산의 차이점을 설명한 글 ([링크](http://blog.naver.com/PostView.nhn?blogId=cjh226&logNo=221356199190&categoryNo=17&parentCategoryNo=0&viewDate=&currentPage=1&postListTopCurrentPage=1&from=section&userTopListOpen=true&userTopListCount=5&userTopListManageOpen=false&userTopListCurrentPage=1))\n"
   ]
  },
  {
   "cell_type": "code",
   "execution_count": 11,
   "metadata": {},
   "outputs": [
    {
     "name": "stdout",
     "output_type": "stream",
     "text": [
      "## 간단 설명\n",
      "[[1 2]\n",
      " [3 4]\n",
      " [5 6]] \n",
      " [[ 7  8  9]\n",
      " [10 11 12]] \n",
      "\n",
      "\n",
      "X * Y : 단순한 element-wise 곱\n",
      "[[ 7 20]\n",
      " [24 44]\n",
      " [45 72]]\n",
      "\n",
      "\n",
      "dot(내적곱) 연산과 matmul(행렬곱) 연산\n",
      "- 2차원까지는 둘의 차이 없음\n",
      "- 아직 내용을 정확히 이해하지 못함\n",
      "[[ 27  30  33]\n",
      " [ 61  68  75]\n",
      " [ 95 106 117]]\n",
      "[[ 27  30  33]\n",
      " [ 61  68  75]\n",
      " [ 95 106 117]]\n",
      "\n",
      "\n",
      "- matmul 결과\n",
      "행과 열을 곱하는 일반적인 행렬곱\n",
      "np.matmul(A,B)[i,j,k] == np.sum(A[i,j,:] * B[i,:,k])\n",
      "[[[ 7  8  9]\n",
      "  [14 16 18]\n",
      "  [21 24 27]]\n",
      "\n",
      " [[40 44 48]\n",
      "  [50 55 60]\n",
      "  [60 66 72]]]\n",
      "\n",
      "\n",
      "- dot 결과\n",
      "3차원 배열을 연산해서 4차원 배열을 얻었다.\n",
      "np.dot(A,B)[i,j,k,m] == np.sum(A[i,j,:] * B[k,:,m])\n",
      "result : \n",
      "[[[[ 7  8  9]\n",
      "   [10 11 12]]\n",
      "\n",
      "  [[14 16 18]\n",
      "   [20 22 24]]\n",
      "\n",
      "  [[21 24 27]\n",
      "   [30 33 36]]]\n",
      "\n",
      "\n",
      " [[[28 32 36]\n",
      "   [40 44 48]]\n",
      "\n",
      "  [[35 40 45]\n",
      "   [50 55 60]]\n",
      "\n",
      "  [[42 48 54]\n",
      "   [60 66 72]]]]\n"
     ]
    }
   ],
   "source": [
    "print(\"## 간단 설명\")\n",
    "# 참고 : https://m.blog.naver.com/PostView.nhn?blogId=cjh226&logNo=221356884894&proxyReferer=https%3A%2F%2Fwww.google.com%2F\n",
    "\n",
    "X = np.arange(1, 7).reshape(3, 2)\n",
    "Y = np.arange(7, 13).reshape(2, 3)\n",
    "print(X,\"\\n\", Y, \"\\n\\n\")\n",
    "\n",
    "print(\"X * Y : 단순한 element-wise 곱\")\n",
    "print(X * Y.T)\n",
    "\n",
    "print(\"\\n\")\n",
    "print(\"dot(내적곱) 연산과 matmul(행렬곱) 연산\")\n",
    "print(\"- 2차원까지는 둘의 차이 없음\")\n",
    "print(\"- 아직 내용을 정확히 이해하지 못함\")\n",
    "print(numpy.dot(X, Y))\n",
    "print(numpy.matmul(X, Y))\n",
    "\n",
    "print(\"\\n\")\n",
    "array1 = np.arange(1, 7).reshape(2, 3, 1)\n",
    "array2 = np.arange(7, 13).reshape(2, 1, 3)\n",
    "\n",
    "print(\"- matmul 결과\")\n",
    "print(\"행과 열을 곱하는 일반적인 행렬곱\")\n",
    "print(\"np.matmul(A,B)[i,j,k] == np.sum(A[i,j,:] * B[i,:,k])\")\n",
    "print(numpy.matmul(array1, array2))\n",
    "print(\"\\n\")\n",
    "print(\"- dot 결과\")\n",
    "print(\"3차원 배열을 연산해서 4차원 배열을 얻었다.\")\n",
    "print(\"np.dot(A,B)[i,j,k,m] == np.sum(A[i,j,:] * B[k,:,m])\")\n",
    "print(\"result : \")\n",
    "print(numpy.dot(array1, array2))"
   ]
  },
  {
   "cell_type": "code",
   "execution_count": null,
   "metadata": {},
   "outputs": [],
   "source": []
  }
 ],
 "metadata": {
  "kernelspec": {
   "display_name": "Python 3",
   "language": "python",
   "name": "python3"
  },
  "language_info": {
   "codemirror_mode": {
    "name": "ipython",
    "version": 3
   },
   "file_extension": ".py",
   "mimetype": "text/x-python",
   "name": "python",
   "nbconvert_exporter": "python",
   "pygments_lexer": "ipython3",
   "version": "3.6.9"
  }
 },
 "nbformat": 4,
 "nbformat_minor": 2
}
