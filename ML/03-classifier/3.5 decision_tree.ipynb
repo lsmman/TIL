{
 "cells": [
  {
   "cell_type": "markdown",
   "metadata": {},
   "source": [
    "# 3.5 Decision_tree\n",
    "\n",
    "- 분류 방법에 따라 나뉨\n",
    "- 크게 CART, C4.5 두 개만 살펴보자\n",
    "\n",
    "#### - CART\n",
    "- ART 알고리즘은 이진트리구조로 모형을 형성하는데 첫번째 과제는 목표변수를 가장잘 분리하는 설명변수와 그 분리시점을 찾는 것이다. 이 측도의 하나를 다양성(diversity)라고 하는데, 노드의 다양성을 가장 많이 줄이는 설명변수를 선택한다. 그리고, 분리기준은 다음 값을 가장 크게 하는 곳을 선택한다. 즉 diversity(before split)-(diversity(left child)+ diversity(right child))를 크게 하는 곳을 분리 기준을 정한다\n",
    "\n",
    "\n",
    "#### - C4.5\n",
    "- C4.5가 CART와 다른 점은 CART는 이진분리를 하지만 C4.5는 가지의 수를 다양화 할수 있다. 이 알고리즘은 연속변수에 대해서는 CART와 비슷한 방법을 사용하지만 범주형에서는 좀 다른 방법을 사용한다. 마약 “색깔”이 분리변수로 선택되면 나무의 다른 레벨은 각 색깔별로 노드를 형성한다.\n",
    "    (C4.5는 속성이 갖는 범주값의 수만큼 분리를 수행합니다. 실 데이터의 분석에서 가지가 매우 잘게 나눠지는 문제가 있습니다.)\n",
    "    \n",
    "\n",
    "Ref: https://ai-times.tistory.com/177 [ai-times]"
   ]
  },
  {
   "cell_type": "markdown",
   "metadata": {},
   "source": [
    "## 3.5 CART decision tree"
   ]
  },
  {
   "cell_type": "code",
   "execution_count": 3,
   "metadata": {},
   "outputs": [
    {
     "data": {
      "image/png": "[encoded data removed]",
      "text/plain": [
       "<Figure size 432x288 with 10 Axes>"
      ]
     },
     "metadata": {
      "needs_background": "light"
     },
     "output_type": "display_data"
    },
    {
     "name": "stdout",
     "output_type": "stream",
     "text": [
      "Accuracy:\n",
      " 0.8601398601398601\n",
      "Confusion matrix:\n",
      " [[60 15]\n",
      " [ 5 63]]\n",
      "Precision:\n",
      " 0.9230769230769231\n",
      "Recall:\n",
      " 0.8\n",
      "F-measure:\n",
      " 0.8571428571428571\n"
     ]
    }
   ],
   "source": [
    "# -*- coding: utf-8 -*-\n",
    "\n",
    "import matplotlib.pyplot as plt\n",
    "from sklearn import datasets, tree\n",
    "from sklearn.metrics import accuracy_score, confusion_matrix\n",
    "from sklearn.metrics import precision_score, recall_score, f1_score\n",
    "\n",
    "# 손으로 쓴 숫자 데이터 읽기\n",
    "digits = datasets.load_digits()\n",
    "\n",
    "# 이미지를 2행 5열로 표시\n",
    "for label, img in zip(digits.target[:10], digits.images[:10]):\n",
    "    plt.subplot(2, 5, label + 1)\n",
    "    plt.axis('off')\n",
    "    plt.imshow(img, cmap=plt.cm.gray_r, interpolation='nearest')\n",
    "    plt.title('Digit: {0}'.format(label))\n",
    "plt.show()\n",
    "\n",
    "# 3과 8의 데이터 위치를 구하기\n",
    "flag_3_8 = (digits.target == 3) + (digits.target == 8)\n",
    "\n",
    "# 3과 8의 데이터를 구하기\n",
    "images = digits.images[flag_3_8]\n",
    "labels = digits.target[flag_3_8]\n",
    "\n",
    "# 3과 8의 이미지 데이터를 1차원화\n",
    "images = images.reshape(images.shape[0], -1)\n",
    "\n",
    "# 분류기 생성\n",
    "n_samples = len(flag_3_8[flag_3_8])\n",
    "train_size = int(n_samples * 3 / 5)\n",
    "classifier = tree.DecisionTreeClassifier(max_depth=3) # CART\n",
    "classifier.fit(images[:train_size], labels[:train_size])\n",
    "\n",
    "# 분류기 성능을 확인\n",
    "expected = labels[train_size:]\n",
    "predicted = classifier.predict(images[train_size:])\n",
    "\n",
    "print('Accuracy:\\n',\n",
    "      accuracy_score(expected, predicted))\n",
    "print('Confusion matrix:\\n',\n",
    "      confusion_matrix(expected, predicted))\n",
    "print('Precision:\\n',\n",
    "      precision_score(expected, predicted, pos_label=3))\n",
    "print('Recall:\\n',\n",
    "      recall_score(expected, predicted, pos_label=3))\n",
    "print('F-measure:\\n',\n",
    "      f1_score(expected, predicted, pos_label=3))\n"
   ]
  },
  {
   "cell_type": "markdown",
   "metadata": {},
   "source": [
    "## 3.5 C4.5 decision tree"
   ]
  },
  {
   "cell_type": "code",
   "execution_count": 2,
   "metadata": {},
   "outputs": [
    {
     "data": {
      "image/png": "[encoded data removed]",
      "text/plain": [
       "<Figure size 432x288 with 10 Axes>"
      ]
     },
     "metadata": {
      "needs_background": "light"
     },
     "output_type": "display_data"
    },
    {
     "name": "stdout",
     "output_type": "stream",
     "text": [
      "Accuracy:\n",
      " 0.8811188811188811\n",
      "Confusion matrix:\n",
      " [[60 15]\n",
      " [ 2 66]]\n",
      "Precision:\n",
      " 0.967741935483871\n",
      "Recall:\n",
      " 0.8\n",
      "F-measure:\n",
      " 0.8759124087591241\n"
     ]
    }
   ],
   "source": [
    "# -*- coding: utf-8 -*-\n",
    "\n",
    "import matplotlib.pyplot as plt\n",
    "from sklearn import datasets, tree\n",
    "from sklearn.metrics import accuracy_score, confusion_matrix\n",
    "from sklearn.metrics import precision_score, recall_score, f1_score\n",
    "\n",
    "# 손으로 쓴 숫자 데이터 읽기\n",
    "digits = datasets.load_digits()\n",
    "\n",
    "# 이미지를 2행 5열로 표시\n",
    "for label, img in zip(digits.target[:10], digits.images[:10]):\n",
    "    plt.subplot(2, 5, label + 1)\n",
    "    plt.axis('off')\n",
    "    plt.imshow(img, cmap=plt.cm.gray_r, interpolation='nearest')\n",
    "    plt.title('Digit: {0}'.format(label))\n",
    "plt.show()\n",
    "\n",
    "# 3과 8의 데이터 위치를 구하기\n",
    "flag_3_8 = (digits.target == 3) + (digits.target == 8)\n",
    "\n",
    "# 3과 8의 데이터를 구하기\n",
    "images = digits.images[flag_3_8]\n",
    "labels = digits.target[flag_3_8]\n",
    "\n",
    "# 3과 8의 이미지 데이터를 1차원화\n",
    "images = images.reshape(images.shape[0], -1)\n",
    "\n",
    "# 분류기 생성\n",
    "n_samples = len(flag_3_8[flag_3_8])\n",
    "train_size = int(n_samples * 3 / 5)\n",
    "classifier = tree.DecisionTreeClassifier(max_depth=3, criterion='entropy') # C4.5\n",
    "classifier.fit(images[:train_size], labels[:train_size])\n",
    "\n",
    "# 분류기 성능을 확인\n",
    "expected = labels[train_size:]\n",
    "predicted = classifier.predict(images[train_size:])\n",
    "\n",
    "print('Accuracy:\\n',\n",
    "      accuracy_score(expected, predicted))\n",
    "print('Confusion matrix:\\n',\n",
    "      confusion_matrix(expected, predicted))\n",
    "print('Precision:\\n',\n",
    "      precision_score(expected, predicted, pos_label=3))\n",
    "print('Recall:\\n',\n",
    "      recall_score(expected, predicted, pos_label=3))\n",
    "print('F-measure:\\n',\n",
    "      f1_score(expected, predicted, pos_label=3))\n"
   ]
  },
  {
   "cell_type": "code",
   "execution_count": null,
   "metadata": {},
   "outputs": [],
   "source": []
  }
 ],
 "metadata": {
  "kernelspec": {
   "display_name": "Python 3",
   "language": "python",
   "name": "python3"
  },
  "language_info": {
   "codemirror_mode": {
    "name": "ipython",
    "version": 3
   },
   "file_extension": ".py",
   "mimetype": "text/x-python",
   "name": "python",
   "nbconvert_exporter": "python",
   "pygments_lexer": "ipython3",
   "version": "3.6.9"
  }
 },
 "nbformat": 4,
 "nbformat_minor": 2
}
