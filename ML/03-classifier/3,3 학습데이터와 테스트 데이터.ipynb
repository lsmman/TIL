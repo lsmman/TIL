{
 "cells": [
  {
   "cell_type": "markdown",
   "metadata": {},
   "source": [
    "## 3. 3 학습 데이터와 테스트 데이터"
   ]
  },
  {
   "cell_type": "markdown",
   "metadata": {},
   "source": [
    "- 학습데이터\n",
    "    - training 에 사용하는 데이터\n",
    "    - 지도학습의 경우, 학습용 정답 데이터가 쌍으로 존재\n",
    "\n",
    "\n",
    "- 테스트데이터\n",
    "    - 성능 평가 데이터\n",
    "    - validate 검증 데이터와 같이 보는 경우도 있으나 용도가 다름\n",
    "    - 테스트 데이터가 학습되어서는 안됨\n",
    "    - (머신러닝의 목적의 미지의 미래 데이터를 분류하는 것이 목적 (일반화 성능))\n",
    "\n",
    "\n",
    "- Train, Test 데이터 분리\n",
    "    - 홀드 아웃 검증\n",
    "        - 대상 데이터 중에서 테스트 데이터를 분리하고 나머지를 학습 데이터로\n",
    "    - K-분할 교차 검증\n",
    "        - 대상 데이터를 k개로 분할, 그 중 1개를 테스트 데이터로, 나머지 k-1개를 학습 데이터로 학습\n",
    "        - 테스트 데이터를 변경하면서 학습과 검증을 k번 반복\n",
    "        - k번 검증 결과를 평균으로 한 결과 사용\n",
    "        - 장단점\n",
    "            - 테스트 데이터의 편향을 방지\n",
    "            - 데이터량을 제대로 확보하지 못하였을 때 데이터 활용 효과적\n",
    "            - 학습과 검증에 드는 시간/비용이 큼 (k번 반복)\n",
    "    \n"
   ]
  }
 ],
 "metadata": {
  "kernelspec": {
   "display_name": "Python 3",
   "language": "python",
   "name": "python3"
  },
  "language_info": {
   "codemirror_mode": {
    "name": "ipython",
    "version": 3
   },
   "file_extension": ".py",
   "mimetype": "text/x-python",
   "name": "python",
   "nbconvert_exporter": "python",
   "pygments_lexer": "ipython3",
   "version": "3.6.9"
  }
 },
 "nbformat": 4,
 "nbformat_minor": 2
}
