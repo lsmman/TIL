{
 "cells": [
  {
   "cell_type": "markdown",
   "metadata": {},
   "source": [
    "* ## 간단한 Dicision tree 분류기 예제"
   ]
  },
  {
   "cell_type": "code",
   "execution_count": null,
   "metadata": {},
   "outputs": [],
   "source": [
    "import matplotlib.pyplot as plt\n",
    "from sklearn import datasets\n",
    "\n",
    "digits = datasets.load_digits()\n",
    "\n",
    "# 1. 데이터 보기\n",
    "for label, img in zip(digits.target[:10], digits.images[:10]):\n",
    "    plt.subplot(2, 5, label+1)\n",
    "    plt.axis('off')\n",
    "    plt.imshow(img, cmap=plt.cm.gray_r, interpolation='nearest')\n",
    "    plt.title('Digit:{0}'.format(label))\n",
    "\n",
    "plt.show()"
   ]
  },
  {
   "cell_type": "code",
   "execution_count": 14,
   "metadata": {},
   "outputs": [],
   "source": [
    "\n",
    "# 2. 3과 8 데이터 추출\n",
    "\n",
    "flag_3_8 = (digits.target == 3) + (digits.target == 8)\n",
    "\n",
    "images = digits.images[flag_3_8]\n",
    "labels = digits.target[flag_3_8]\n",
    "\n",
    "images = images.reshape(images.shape[0], -1)\n"
   ]
  },
  {
   "cell_type": "code",
   "execution_count": 16,
   "metadata": {},
   "outputs": [
    {
     "data": {
      "text/plain": [
       "DecisionTreeClassifier(class_weight=None, criterion='gini', max_depth=None,\n",
       "                       max_features=None, max_leaf_nodes=None,\n",
       "                       min_impurity_decrease=0.0, min_impurity_split=None,\n",
       "                       min_samples_leaf=1, min_samples_split=2,\n",
       "                       min_weight_fraction_leaf=0.0, presort=False,\n",
       "                       random_state=None, splitter='best')"
      ]
     },
     "execution_count": 16,
     "metadata": {},
     "output_type": "execute_result"
    }
   ],
   "source": [
    "from sklearn import tree\n",
    "\n",
    "# 3. 분류기 생성\n",
    "n_samples = len(flag_3_8[flag_3_8])\n",
    "train_size = int(n_samples * 3 /5)\n",
    "classifier = tree.DecisionTreeClassifier()\n",
    "classifier.fit(images[:train_size], labels[:train_size])"
   ]
  },
  {
   "cell_type": "code",
   "execution_count": 17,
   "metadata": {},
   "outputs": [
    {
     "name": "stdout",
     "output_type": "stream",
     "text": [
      "Accuracy:\n",
      " 0.8741258741258742\n"
     ]
    }
   ],
   "source": [
    "from sklearn import metrics\n",
    "\n",
    "expected = labels[train_size:]\n",
    "predicted = classifier.predict(images[train_size:])\n",
    "\n",
    "print('Accuracy:\\n', metrics.accuracy_score(expected, predicted))"
   ]
  },
  {
   "cell_type": "code",
   "execution_count": 18,
   "metadata": {},
   "outputs": [
    {
     "name": "stdout",
     "output_type": "stream",
     "text": [
      "Accuracy:\n",
      " 0.8741258741258742\n",
      "\n",
      "Confusion matrix:\n",
      " [[62 13]\n",
      " [ 5 63]]\n",
      "\n",
      "Precision:\n",
      " 0.9253731343283582\n",
      "\n",
      "Recall:\n",
      " 0.8266666666666667\n",
      "\n",
      "F-measure:\n",
      " 0.8732394366197183\n"
     ]
    }
   ],
   "source": [
    "\n",
    "from sklearn import metrics\n",
    "\n",
    "expected=labels[train_size:]\n",
    "predicted=classifier.predict(images[train_size:])\n",
    "\n",
    "print('Accuracy:\\n',\n",
    "    metrics.accuracy_score(expected, predicted))\n",
    "print('\\nConfusion matrix:\\n',\n",
    "    metrics.confusion_matrix(expected, predicted))\n",
    "print('\\nPrecision:\\n',\n",
    "    metrics.precision_score(expected, predicted, pos_label=3))\n",
    "print('\\nRecall:\\n',\n",
    "    metrics.recall_score(expected, predicted, pos_label=3))\n",
    "print('\\nF-measure:\\n',\n",
    "    metrics.f1_score(expected, predicted, pos_label=3))\n"
   ]
  },
  {
   "cell_type": "code",
   "execution_count": null,
   "metadata": {},
   "outputs": [],
   "source": []
  }
 ],
 "metadata": {
  "kernelspec": {
   "display_name": "Python 3",
   "language": "python",
   "name": "python3"
  },
  "language_info": {
   "codemirror_mode": {
    "name": "ipython",
    "version": 3
   },
   "file_extension": ".py",
   "mimetype": "text/x-python",
   "name": "python",
   "nbconvert_exporter": "python",
   "pygments_lexer": "ipython3",
   "version": "3.6.9"
  }
 },
 "nbformat": 4,
 "nbformat_minor": 2
}
